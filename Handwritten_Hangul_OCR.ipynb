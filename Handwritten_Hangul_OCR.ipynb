{
  "nbformat": 4,
  "nbformat_minor": 0,
  "metadata": {
    "colab": {
      "name": "Handwritten_Hangul_OCR",
      "provenance": [],
      "collapsed_sections": []
    },
    "kernelspec": {
      "name": "python3",
      "display_name": "Python 3"
    },
    "language_info": {
      "name": "python"
    }
  },
  "cells": [
    {
      "cell_type": "code",
      "execution_count": 20,
      "metadata": {
        "id": "S1lzJDbi4P_O"
      },
      "outputs": [],
      "source": [
        "import numpy as np\n",
        "import pandas as pd\n",
        "import matplotlib.pyplot as plt\n",
        "from sklearn.model_selection import train_test_split\n",
        "from sklearn.metrics import accuracy_score"
      ]
    },
    {
      "cell_type": "markdown",
      "source": [
        "**Create Dataset**"
      ],
      "metadata": {
        "id": "sYkWACfS5xPU"
      }
    },
    {
      "cell_type": "code",
      "source": [
        "import os\n",
        "path = \"/content/drive/MyDrive/Handwritten_Hangul_OCR/hangul-images-new\"\n",
        "files = os.listdir(path)\n",
        "print(files)"
      ],
      "metadata": {
        "colab": {
          "base_uri": "https://localhost:8080/"
        },
        "id": "N_Fvv0Zw45U-",
        "outputId": "05002500-48cc-492d-ffcc-069f966a8f16"
      },
      "execution_count": 21,
      "outputs": [
        {
          "output_type": "stream",
          "name": "stdout",
          "text": [
            "['i', 'gi', 'dae', 'ji', 'da', 'sa', 'ha', 'ga', 'ja', 'li']\n"
          ]
        }
      ]
    },
    {
      "cell_type": "code",
      "source": [
        "classes = {'da':0, 'dae':1, 'ga':2, 'gi':3, 'ha':4, 'i':5, 'ja':6, 'ji':7, 'li':8, 'sa':9}"
      ],
      "metadata": {
        "id": "yqZPNrfB9aiu"
      },
      "execution_count": 22,
      "outputs": []
    },
    {
      "cell_type": "code",
      "source": [
        "import cv2\n",
        "x = []\n",
        "y = []\n",
        "for cl in classes:\n",
        "  pth = path+\"/\"+cl\n",
        "  for img_name in os.listdir(pth):\n",
        "    img = cv2.imread(pth+\"/\"+img_name, 0)\n",
        "    x.append(img)\n",
        "    y.append(classes[cl])"
      ],
      "metadata": {
        "id": "vOX2DB1-9xnc"
      },
      "execution_count": 23,
      "outputs": []
    },
    {
      "cell_type": "code",
      "source": [
        "pd.Series(y).value_counts()"
      ],
      "metadata": {
        "colab": {
          "base_uri": "https://localhost:8080/"
        },
        "id": "1oqGCeJH-iud",
        "outputId": "9af0c5af-7344-4915-e9e4-e42efc886929"
      },
      "execution_count": 24,
      "outputs": [
        {
          "output_type": "execute_result",
          "data": {
            "text/plain": [
              "9    120\n",
              "8    120\n",
              "7    120\n",
              "6    120\n",
              "5    120\n",
              "4    120\n",
              "3    120\n",
              "2    120\n",
              "1    120\n",
              "0    120\n",
              "dtype: int64"
            ]
          },
          "metadata": {},
          "execution_count": 24
        }
      ]
    },
    {
      "cell_type": "code",
      "source": [
        "x[0].shape"
      ],
      "metadata": {
        "colab": {
          "base_uri": "https://localhost:8080/"
        },
        "id": "xl5Useuv-s3z",
        "outputId": "ee9397df-6300-407b-ab8b-ca58901c89e3"
      },
      "execution_count": 25,
      "outputs": [
        {
          "output_type": "execute_result",
          "data": {
            "text/plain": [
              "(64, 64)"
            ]
          },
          "metadata": {},
          "execution_count": 25
        }
      ]
    },
    {
      "cell_type": "code",
      "source": [
        "print(type(x))\n",
        "x = np.array(x)\n",
        "y = np.array(y)\n",
        "print(type(x))"
      ],
      "metadata": {
        "colab": {
          "base_uri": "https://localhost:8080/"
        },
        "id": "s1MnhGdc-wcL",
        "outputId": "e1c6f903-9803-43bd-ae2a-e13819d73c21"
      },
      "execution_count": 26,
      "outputs": [
        {
          "output_type": "stream",
          "name": "stdout",
          "text": [
            "<class 'list'>\n",
            "<class 'numpy.ndarray'>\n"
          ]
        }
      ]
    },
    {
      "cell_type": "markdown",
      "source": [
        "**Analyze Data**"
      ],
      "metadata": {
        "id": "bXogqT7C-63j"
      }
    },
    {
      "cell_type": "code",
      "source": [
        "plt.imshow(x[100], cmap=\"gray\")\n",
        "print(y[100])"
      ],
      "metadata": {
        "colab": {
          "base_uri": "https://localhost:8080/",
          "height": 285
        },
        "id": "Y3NNBcsp-5JU",
        "outputId": "b35e95fe-a08e-413b-87df-d0ec9825165b"
      },
      "execution_count": 27,
      "outputs": [
        {
          "output_type": "stream",
          "name": "stdout",
          "text": [
            "0\n"
          ]
        },
        {
          "output_type": "display_data",
          "data": {
            "image/png": "[encoded data removed]",
            "text/plain": [
              "<Figure size 432x288 with 1 Axes>"
            ]
          },
          "metadata": {
            "needs_background": "light"
          }
        }
      ]
    },
    {
      "cell_type": "markdown",
      "source": [
        "**Prepare Data**"
      ],
      "metadata": {
        "id": "kP0oJQeh_4Hm"
      }
    },
    {
      "cell_type": "code",
      "source": [
        "x_new = x.reshape(len(x), -1)\n",
        "print(x_new.shape)\n",
        "print(y.shape)"
      ],
      "metadata": {
        "colab": {
          "base_uri": "https://localhost:8080/"
        },
        "id": "yVvInwww_21t",
        "outputId": "335fa6bf-7002-4a85-a74d-ec3fdf936e25"
      },
      "execution_count": 28,
      "outputs": [
        {
          "output_type": "stream",
          "name": "stdout",
          "text": [
            "(1200, 4096)\n",
            "(1200,)\n"
          ]
        }
      ]
    },
    {
      "cell_type": "code",
      "source": [
        "64*64"
      ],
      "metadata": {
        "colab": {
          "base_uri": "https://localhost:8080/"
        },
        "id": "ApziWKpdAE4z",
        "outputId": "76be010a-1b47-41bf-fb07-df3d17bad73c"
      },
      "execution_count": 29,
      "outputs": [
        {
          "output_type": "execute_result",
          "data": {
            "text/plain": [
              "4096"
            ]
          },
          "metadata": {},
          "execution_count": 29
        }
      ]
    },
    {
      "cell_type": "code",
      "source": [
        "print(x.shape)\n",
        "print(x.ndim)\n",
        "print(x_new.ndim)"
      ],
      "metadata": {
        "colab": {
          "base_uri": "https://localhost:8080/"
        },
        "id": "rFMidoBvASXD",
        "outputId": "483a1623-2cf6-4528-928b-7e24ec60474c"
      },
      "execution_count": 30,
      "outputs": [
        {
          "output_type": "stream",
          "name": "stdout",
          "text": [
            "(1200, 64, 64)\n",
            "3\n",
            "2\n"
          ]
        }
      ]
    },
    {
      "cell_type": "markdown",
      "source": [
        "**Split Data**"
      ],
      "metadata": {
        "id": "muJvUchGAlUr"
      }
    },
    {
      "cell_type": "code",
      "source": [
        "x_train, x_test, y_train, y_test = train_test_split(x_new, y, test_size=0.15, random_state=3)"
      ],
      "metadata": {
        "id": "on7DlGiSAaV8"
      },
      "execution_count": 54,
      "outputs": []
    },
    {
      "cell_type": "code",
      "source": [
        "print(x_train.shape, y_train.shape)\n",
        "print(x_test.shape, y_test.shape)"
      ],
      "metadata": {
        "colab": {
          "base_uri": "https://localhost:8080/"
        },
        "id": "N6_DmrIqA9UE",
        "outputId": "31b7591f-f245-4876-b0c4-a0d8a261c047"
      },
      "execution_count": 55,
      "outputs": [
        {
          "output_type": "stream",
          "name": "stdout",
          "text": [
            "(1020, 4096) (1020,)\n",
            "(180, 4096) (180,)\n"
          ]
        }
      ]
    },
    {
      "cell_type": "markdown",
      "source": [
        "**Feature Scaling**"
      ],
      "metadata": {
        "id": "nmZlOcq9BNtT"
      }
    },
    {
      "cell_type": "code",
      "source": [
        "print(x_train.max())\n",
        "print(x_test.max())"
      ],
      "metadata": {
        "colab": {
          "base_uri": "https://localhost:8080/"
        },
        "id": "_GJhngNPBMmc",
        "outputId": "f59d4e74-3d65-4149-d5eb-ce55dd810d04"
      },
      "execution_count": 56,
      "outputs": [
        {
          "output_type": "stream",
          "name": "stdout",
          "text": [
            "255\n",
            "255\n"
          ]
        }
      ]
    },
    {
      "cell_type": "code",
      "source": [
        "x_train = x_train/255\n",
        "x_test = x_test/255\n",
        "print(x_train.max())\n",
        "print(x_test.max())"
      ],
      "metadata": {
        "colab": {
          "base_uri": "https://localhost:8080/"
        },
        "id": "LqcoVABDBY0d",
        "outputId": "0db48b65-4093-4019-b6c0-d212d2b8e80e"
      },
      "execution_count": 57,
      "outputs": [
        {
          "output_type": "stream",
          "name": "stdout",
          "text": [
            "1.0\n",
            "1.0\n"
          ]
        }
      ]
    },
    {
      "cell_type": "markdown",
      "source": [
        "**Feature Selection: PCA**"
      ],
      "metadata": {
        "id": "4bF6eyJlCBqe"
      }
    },
    {
      "cell_type": "markdown",
      "source": [
        "**Train Model**"
      ],
      "metadata": {
        "id": "KifDZu_dEeRL"
      }
    },
    {
      "cell_type": "code",
      "source": [
        "from sklearn.svm import SVC\n",
        "svclassifier = SVC(kernel='linear')\n",
        "svclassifier.fit(x_train, y_train)"
      ],
      "metadata": {
        "colab": {
          "base_uri": "https://localhost:8080/"
        },
        "id": "naIdK_Z5EXDr",
        "outputId": "0bdf45cf-a17c-42e6-b8e3-0058354ac41b"
      },
      "execution_count": 58,
      "outputs": [
        {
          "output_type": "execute_result",
          "data": {
            "text/plain": [
              "SVC(kernel='linear')"
            ]
          },
          "metadata": {},
          "execution_count": 58
        }
      ]
    },
    {
      "cell_type": "markdown",
      "source": [
        "**Prediction**"
      ],
      "metadata": {
        "id": "O8H58T_iFNlj"
      }
    },
    {
      "cell_type": "code",
      "source": [
        "y_pred = svclassifier.predict(x_test)\n",
        "y_pred"
      ],
      "metadata": {
        "colab": {
          "base_uri": "https://localhost:8080/"
        },
        "id": "tACDHa3GFMik",
        "outputId": "34c148a3-d6ce-4ae4-b458-9f9b3a1cadb3"
      },
      "execution_count": 59,
      "outputs": [
        {
          "output_type": "execute_result",
          "data": {
            "text/plain": [
              "array([6, 3, 2, 3, 2, 5, 9, 2, 3, 9, 7, 2, 0, 5, 4, 5, 0, 7, 8, 4, 1, 5,\n",
              "       1, 4, 8, 1, 3, 6, 0, 8, 0, 9, 3, 2, 1, 1, 1, 6, 2, 5, 7, 2, 1, 5,\n",
              "       9, 1, 7, 5, 2, 6, 3, 8, 4, 3, 0, 0, 7, 2, 1, 7, 1, 4, 7, 8, 8, 2,\n",
              "       5, 7, 6, 5, 4, 5, 9, 8, 4, 6, 4, 5, 0, 2, 7, 6, 1, 7, 9, 5, 1, 7,\n",
              "       3, 7, 4, 8, 0, 1, 7, 8, 4, 2, 7, 2, 2, 1, 1, 4, 1, 9, 3, 1, 8, 1,\n",
              "       3, 7, 1, 2, 1, 0, 9, 8, 0, 2, 3, 5, 1, 5, 6, 5, 0, 3, 2, 8, 7, 6,\n",
              "       0, 4, 9, 2, 9, 2, 8, 2, 8, 5, 7, 8, 4, 0, 5, 4, 9, 9, 2, 6, 1, 8,\n",
              "       5, 8, 9, 3, 3, 8, 4, 7, 6, 8, 2, 9, 2, 5, 1, 7, 3, 3, 3, 9, 6, 7,\n",
              "       4, 2, 0, 1])"
            ]
          },
          "metadata": {},
          "execution_count": 59
        }
      ]
    },
    {
      "cell_type": "markdown",
      "source": [
        "**Evaluation**"
      ],
      "metadata": {
        "id": "VY-z_E1nK_28"
      }
    },
    {
      "cell_type": "code",
      "source": [
        "print(\"Accuracy score: \", accuracy_score(y_test, y_pred))"
      ],
      "metadata": {
        "colab": {
          "base_uri": "https://localhost:8080/"
        },
        "id": "2A3-lox4K7FE",
        "outputId": "923285cf-4954-4e49-9079-4ab685528577"
      },
      "execution_count": 60,
      "outputs": [
        {
          "output_type": "stream",
          "name": "stdout",
          "text": [
            "Accuracy score:  0.9222222222222223\n"
          ]
        }
      ]
    },
    {
      "cell_type": "markdown",
      "source": [
        "**Test Model**"
      ],
      "metadata": {
        "id": "i8JzZt13NURa"
      }
    },
    {
      "cell_type": "code",
      "source": [
        "decode = {0:'da', 1:'dae', 2:'ga', 3:'gi', 4:'ha', 5:'i', 6:'ja', 7:'ji', 8:'li', 9:'sa'}\n",
        "plt.figure(figsize=(9, 9))\n",
        "for i in range(9):\n",
        "  plt.subplot(3, 3, i+1)\n",
        "  plt.imshow(x_test[i+15].reshape(64, 64), cmap='gray')\n",
        "  plt.title(decode[y_pred[i+15]])\n",
        "  plt.axis('off')"
      ],
      "metadata": {
        "colab": {
          "base_uri": "https://localhost:8080/",
          "height": 536
        },
        "id": "kxGByUBZLS2z",
        "outputId": "cb27abcd-56cd-4842-976a-d0fc2e0669a4"
      },
      "execution_count": 61,
      "outputs": [
        {
          "output_type": "display_data",
          "data": {
            "image/png": "[encoded data removed]",
            "text/plain": [
              "<Figure size 648x648 with 9 Axes>"
            ]
          },
          "metadata": {
            "needs_background": "light"
          }
        }
      ]
    },
    {
      "cell_type": "code",
      "source": [
        "d = pd.DataFrame({'Actual': y_test, 'Predicted':y_pred})\n",
        "d[d['Actual']!=d['Predicted']]"
      ],
      "metadata": {
        "colab": {
          "base_uri": "https://localhost:8080/",
          "height": 488
        },
        "id": "JxU5UV4aORKC",
        "outputId": "b159d5b7-5c9f-4e1e-b43a-2184ac47d32a"
      },
      "execution_count": 62,
      "outputs": [
        {
          "output_type": "execute_result",
          "data": {
            "text/html": [
              "\n",
              "  <div id=\"df-c415ee89-5db3-4dbe-a302-45bbf6d4bb0c\">\n",
              "    <div class=\"colab-df-container\">\n",
              "      <div>\n",
              "<style scoped>\n",
              "    .dataframe tbody tr th:only-of-type {\n",
              "        vertical-align: middle;\n",
              "    }\n",
              "\n",
              "    .dataframe tbody tr th {\n",
              "        vertical-align: top;\n",
              "    }\n",
              "\n",
              "    .dataframe thead th {\n",
              "        text-align: right;\n",
              "    }\n",
              "</style>\n",
              "<table border=\"1\" class=\"dataframe\">\n",
              "  <thead>\n",
              "    <tr style=\"text-align: right;\">\n",
              "      <th></th>\n",
              "      <th>Actual</th>\n",
              "      <th>Predicted</th>\n",
              "    </tr>\n",
              "  </thead>\n",
              "  <tbody>\n",
              "    <tr>\n",
              "      <th>2</th>\n",
              "      <td>6</td>\n",
              "      <td>2</td>\n",
              "    </tr>\n",
              "    <tr>\n",
              "      <th>12</th>\n",
              "      <td>7</td>\n",
              "      <td>0</td>\n",
              "    </tr>\n",
              "    <tr>\n",
              "      <th>15</th>\n",
              "      <td>7</td>\n",
              "      <td>5</td>\n",
              "    </tr>\n",
              "    <tr>\n",
              "      <th>34</th>\n",
              "      <td>5</td>\n",
              "      <td>1</td>\n",
              "    </tr>\n",
              "    <tr>\n",
              "      <th>43</th>\n",
              "      <td>7</td>\n",
              "      <td>5</td>\n",
              "    </tr>\n",
              "    <tr>\n",
              "      <th>45</th>\n",
              "      <td>5</td>\n",
              "      <td>1</td>\n",
              "    </tr>\n",
              "    <tr>\n",
              "      <th>46</th>\n",
              "      <td>8</td>\n",
              "      <td>7</td>\n",
              "    </tr>\n",
              "    <tr>\n",
              "      <th>51</th>\n",
              "      <td>0</td>\n",
              "      <td>8</td>\n",
              "    </tr>\n",
              "    <tr>\n",
              "      <th>68</th>\n",
              "      <td>9</td>\n",
              "      <td>6</td>\n",
              "    </tr>\n",
              "    <tr>\n",
              "      <th>69</th>\n",
              "      <td>8</td>\n",
              "      <td>5</td>\n",
              "    </tr>\n",
              "    <tr>\n",
              "      <th>97</th>\n",
              "      <td>3</td>\n",
              "      <td>2</td>\n",
              "    </tr>\n",
              "    <tr>\n",
              "      <th>113</th>\n",
              "      <td>6</td>\n",
              "      <td>2</td>\n",
              "    </tr>\n",
              "    <tr>\n",
              "      <th>150</th>\n",
              "      <td>5</td>\n",
              "      <td>2</td>\n",
              "    </tr>\n",
              "    <tr>\n",
              "      <th>174</th>\n",
              "      <td>2</td>\n",
              "      <td>6</td>\n",
              "    </tr>\n",
              "  </tbody>\n",
              "</table>\n",
              "</div>\n",
              "      <button class=\"colab-df-convert\" onclick=\"convertToInteractive('df-c415ee89-5db3-4dbe-a302-45bbf6d4bb0c')\"\n",
              "              title=\"Convert this dataframe to an interactive table.\"\n",
              "              style=\"display:none;\">\n",
              "        \n",
              "  <svg xmlns=\"http://www.w3.org/2000/svg\" height=\"24px\"viewBox=\"0 0 24 24\"\n",
              "       width=\"24px\">\n",
              "    <path d=\"M0 0h24v24H0V0z\" fill=\"none\"/>\n",
              "    <path d=\"M18.56 5.44l.94 2.06.94-2.06 2.06-.94-2.06-.94-.94-2.06-.94 2.06-2.06.94zm-11 1L8.5 8.5l.94-2.06 2.06-.94-2.06-.94L8.5 2.5l-.94 2.06-2.06.94zm10 10l.94 2.06.94-2.06 2.06-.94-2.06-.94-.94-2.06-.94 2.06-2.06.94z\"/><path d=\"M17.41 7.96l-1.37-1.37c-.4-.4-.92-.59-1.43-.59-.52 0-1.04.2-1.43.59L10.3 9.45l-7.72 7.72c-.78.78-.78 2.05 0 2.83L4 21.41c.39.39.9.59 1.41.59.51 0 1.02-.2 1.41-.59l7.78-7.78 2.81-2.81c.8-.78.8-2.07 0-2.86zM5.41 20L4 18.59l7.72-7.72 1.47 1.35L5.41 20z\"/>\n",
              "  </svg>\n",
              "      </button>\n",
              "      \n",
              "  <style>\n",
              "    .colab-df-container {\n",
              "      display:flex;\n",
              "      flex-wrap:wrap;\n",
              "      gap: 12px;\n",
              "    }\n",
              "\n",
              "    .colab-df-convert {\n",
              "      background-color: #E8F0FE;\n",
              "      border: none;\n",
              "      border-radius: 50%;\n",
              "      cursor: pointer;\n",
              "      display: none;\n",
              "      fill: #1967D2;\n",
              "      height: 32px;\n",
              "      padding: 0 0 0 0;\n",
              "      width: 32px;\n",
              "    }\n",
              "\n",
              "    .colab-df-convert:hover {\n",
              "      background-color: #E2EBFA;\n",
              "      box-shadow: 0px 1px 2px rgba(60, 64, 67, 0.3), 0px 1px 3px 1px rgba(60, 64, 67, 0.15);\n",
              "      fill: #174EA6;\n",
              "    }\n",
              "\n",
              "    [theme=dark] .colab-df-convert {\n",
              "      background-color: #3B4455;\n",
              "      fill: #D2E3FC;\n",
              "    }\n",
              "\n",
              "    [theme=dark] .colab-df-convert:hover {\n",
              "      background-color: #434B5C;\n",
              "      box-shadow: 0px 1px 3px 1px rgba(0, 0, 0, 0.15);\n",
              "      filter: drop-shadow(0px 1px 2px rgba(0, 0, 0, 0.3));\n",
              "      fill: #FFFFFF;\n",
              "    }\n",
              "  </style>\n",
              "\n",
              "      <script>\n",
              "        const buttonEl =\n",
              "          document.querySelector('#df-c415ee89-5db3-4dbe-a302-45bbf6d4bb0c button.colab-df-convert');\n",
              "        buttonEl.style.display =\n",
              "          google.colab.kernel.accessAllowed ? 'block' : 'none';\n",
              "\n",
              "        async function convertToInteractive(key) {\n",
              "          const element = document.querySelector('#df-c415ee89-5db3-4dbe-a302-45bbf6d4bb0c');\n",
              "          const dataTable =\n",
              "            await google.colab.kernel.invokeFunction('convertToInteractive',\n",
              "                                                     [key], {});\n",
              "          if (!dataTable) return;\n",
              "\n",
              "          const docLinkHtml = 'Like what you see? Visit the ' +\n",
              "            '<a target=\"_blank\" href=https://colab.research.google.com/notebooks/data_table.ipynb>data table notebook</a>'\n",
              "            + ' to learn more about interactive tables.';\n",
              "          element.innerHTML = '';\n",
              "          dataTable['output_type'] = 'display_data';\n",
              "          await google.colab.output.renderOutput(dataTable, element);\n",
              "          const docLink = document.createElement('div');\n",
              "          docLink.innerHTML = docLinkHtml;\n",
              "          element.appendChild(docLink);\n",
              "        }\n",
              "      </script>\n",
              "    </div>\n",
              "  </div>\n",
              "  "
            ],
            "text/plain": [
              "     Actual  Predicted\n",
              "2         6          2\n",
              "12        7          0\n",
              "15        7          5\n",
              "34        5          1\n",
              "43        7          5\n",
              "45        5          1\n",
              "46        8          7\n",
              "51        0          8\n",
              "68        9          6\n",
              "69        8          5\n",
              "97        3          2\n",
              "113       6          2\n",
              "150       5          2\n",
              "174       2          6"
            ]
          },
          "metadata": {},
          "execution_count": 62
        }
      ]
    },
    {
      "cell_type": "markdown",
      "source": [
        "**Test model on real data**"
      ],
      "metadata": {
        "id": "lXTVqegmO7pt"
      }
    },
    {
      "cell_type": "code",
      "source": [
        "img = cv2.resize(cv2.imread(\"/content/drive/MyDrive/Handwritten_Hangul_OCR/test5.png\", 0), (64, 64))\n",
        "plt.imshow(img, cmap='gray')"
      ],
      "metadata": {
        "colab": {
          "base_uri": "https://localhost:8080/",
          "height": 285
        },
        "id": "UELqdmrgO4u3",
        "outputId": "30f4b3f4-ce16-483d-a2c2-eea9c1d5b429"
      },
      "execution_count": 63,
      "outputs": [
        {
          "output_type": "execute_result",
          "data": {
            "text/plain": [
              "<matplotlib.image.AxesImage at 0x7fbd3e2756d0>"
            ]
          },
          "metadata": {},
          "execution_count": 63
        },
        {
          "output_type": "display_data",
          "data": {
            "image/png": "[encoded data removed]",
            "text/plain": [
              "<Figure size 432x288 with 1 Axes>"
            ]
          },
          "metadata": {
            "needs_background": "light"
          }
        }
      ]
    },
    {
      "cell_type": "code",
      "source": [
        "img = img.reshape(1, -1)/255"
      ],
      "metadata": {
        "id": "wBAJQsoBQQOz"
      },
      "execution_count": 64,
      "outputs": []
    },
    {
      "cell_type": "code",
      "source": [
        "decode[svclassifier.predict(img)[0]]"
      ],
      "metadata": {
        "colab": {
          "base_uri": "https://localhost:8080/",
          "height": 35
        },
        "id": "XqWkfNaqQ5cn",
        "outputId": "4226b1f8-622e-4e26-f9c1-c4a175a6c09c"
      },
      "execution_count": 65,
      "outputs": [
        {
          "output_type": "execute_result",
          "data": {
            "application/vnd.google.colaboratory.intrinsic+json": {
              "type": "string"
            },
            "text/plain": [
              "'gi'"
            ]
          },
          "metadata": {},
          "execution_count": 65
        }
      ]
    },
    {
      "cell_type": "markdown",
      "source": [
        "**Confusion Matrix**"
      ],
      "metadata": {
        "id": "manM492odHS3"
      }
    },
    {
      "cell_type": "code",
      "source": [
        "from sklearn.metrics import confusion_matrix\n",
        "conf_mat = confusion_matrix(y_test, y_pred)\n",
        "print(conf_mat)"
      ],
      "metadata": {
        "colab": {
          "base_uri": "https://localhost:8080/"
        },
        "id": "JlZEpUThdKT2",
        "outputId": "1289d5b7-1da6-437a-fe44-615acd892705"
      },
      "execution_count": 66,
      "outputs": [
        {
          "output_type": "stream",
          "name": "stdout",
          "text": [
            "[[13  0  0  0  0  0  0  0  1  0]\n",
            " [ 0 22  0  0  0  0  0  0  0  0]\n",
            " [ 0  0 20  0  0  0  1  0  0  0]\n",
            " [ 0  0  1 17  0  0  0  0  0  0]\n",
            " [ 0  0  0  0 16  0  0  0  0  0]\n",
            " [ 0  2  1  0  0 16  0  0  0  0]\n",
            " [ 0  0  2  0  0  0 10  0  0  0]\n",
            " [ 1  0  0  0  0  2  0 19  0  0]\n",
            " [ 0  0  0  0  0  1  0  1 18  0]\n",
            " [ 0  0  0  0  0  0  1  0  0 15]]\n"
          ]
        }
      ]
    }
  ]
}